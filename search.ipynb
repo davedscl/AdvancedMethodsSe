{
 "cells": [
  {
   "cell_type": "code",
   "execution_count": 151,
   "metadata": {},
   "outputs": [],
   "source": [
    "from github import Github, RateLimitExceededException\n",
    "import os\n",
    "import json"
   ]
  },
  {
   "cell_type": "code",
   "execution_count": 146,
   "metadata": {},
   "outputs": [],
   "source": [
    "# Read Token\n",
    "access_token = open('GITHUB_TOKEN.txt', 'r').read()\n",
    "user = Github(access_token)\n",
    "user.per_page = 100\n",
    "\n",
    "\n",
    "def check_rate_limit():\n",
    "    rate_limit = user.get_rate_limit()\n",
    "    remaining = rate_limit.search.remaining\n",
    "    \n",
    "    if remaining > 0:\n",
    "        return\n",
    "    \n",
    "    reset_time = rate_limit.search.reset\n",
    "    now = datetime.utcnow()\n",
    "\n",
    "    if now < reset_time:\n",
    "        sleep_time = (reset_time - now).total_seconds()\n",
    "        print('=> Waiting {} seconds for rate limit reset.'.format(sleep_time))\n",
    "        time.sleep(sleep_time)\n",
    "        \n",
    "# Number of Results = NumberOfRequests * 10 pages * 100 resultsPerPage\n",
    "def search(language, order, size, filename):\n",
    "    \n",
    "    repo_list = []\n",
    "    size_query = ', size:' + size\n",
    "    \n",
    "    try:\n",
    "        repos = user.search_repositories(query='language:'+ language + size_query, sort='stars', order=order)\n",
    "            \n",
    "        # Iterate through pages\n",
    "        for j in range (0,10):\n",
    "                \n",
    "            # Iterate through repositories of a page\n",
    "            for elementOfPage in repos.get_page(j):\n",
    "                    \n",
    "                repo_list.append({\n",
    "                    'id': elementOfPage.id,\n",
    "                    'owner': elementOfPage.owner.login,\n",
    "                    'name': elementOfPage.name,\n",
    "                    'language': language,\n",
    "                    'stars': elementOfPage.stargazers_count,\n",
    "                    'forks': elementOfPage.forks_count,\n",
    "                    'default_branch': elementOfPage.default_branch,\n",
    "                })\n",
    "               \n",
    "    except RateLimitExceededException:\n",
    "        check_rate_limit()\n",
    "\n",
    "            \n",
    "    with open(filename, 'w') as f:\n",
    "        f.write(json.dumps(repo_list, indent=4))"
   ]
  },
  {
   "cell_type": "code",
   "execution_count": 150,
   "metadata": {},
   "outputs": [],
   "source": [
    "search('Java', 'asc', '50000..100000', './data/java_worst.json')"
   ]
  }
 ],
 "metadata": {
  "kernelspec": {
   "display_name": "Python 3",
   "language": "python",
   "name": "python3"
  },
  "language_info": {
   "codemirror_mode": {
    "name": "ipython",
    "version": 3
   },
   "file_extension": ".py",
   "mimetype": "text/x-python",
   "name": "python",
   "nbconvert_exporter": "python",
   "pygments_lexer": "ipython3",
   "version": "3.7.3"
  }
 },
 "nbformat": 4,
 "nbformat_minor": 2
}
