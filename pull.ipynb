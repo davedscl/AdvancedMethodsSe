{
 "cells": [
  {
   "cell_type": "code",
   "execution_count": 1,
   "metadata": {},
   "outputs": [],
   "source": [
    "from github import Github, RateLimitExceededException\n",
    "import pandas as pd\n",
    "import os\n",
    "from datetime import datetime\n",
    "\n",
    "from repository import Repository"
   ]
  },
  {
   "cell_type": "code",
   "execution_count": 2,
   "metadata": {},
   "outputs": [],
   "source": [
    "# Read Token\n",
    "access_token = open('GITHUB_TOKEN.txt', 'r').read()\n",
    "user = Github(access_token)\n",
    "user.per_page = 100"
   ]
  },
  {
   "cell_type": "code",
   "execution_count": 3,
   "metadata": {
    "scrolled": true
   },
   "outputs": [],
   "source": [
    "df = pd.read_json ('./data/python_best.json')"
   ]
  },
  {
   "cell_type": "code",
   "execution_count": 4,
   "metadata": {},
   "outputs": [],
   "source": [
    "def check_rate_limit():\n",
    "    rate_limit = user.get_rate_limit()\n",
    "    remaining = rate_limit.search.remaining\n",
    "    \n",
    "    if remaining > 0:\n",
    "        return\n",
    "    \n",
    "    reset_time = rate_limit.search.reset\n",
    "    now = datetime.utcnow()\n",
    "\n",
    "    if now < reset_time:\n",
    "        sleep_time = (reset_time - now).total_seconds()\n",
    "        print('=> Waiting {} seconds for rate limit reset.'.format(sleep_time))\n",
    "        time.sleep(sleep_time)"
   ]
  },
  {
   "cell_type": "code",
   "execution_count": null,
   "metadata": {
    "scrolled": true
   },
   "outputs": [
    {
     "name": "stdout",
     "output_type": "stream",
     "text": [
      "================ 0 ================\n",
      "Cloned Repository:  youtube-dl\n",
      "Analysed Repository:  youtube-dl\n",
      "Analysed Complexity of Repository:  youtube-dl\n",
      "Dumped data from Repository: youtube-dl (into file: ./analysisPCC.json)\n",
      "Deleted Repository:  youtube-dl\n",
      "================ 1 ================\n",
      "Cloned Repository:  12306\n",
      "Analysed Repository:  12306\n",
      "Analysed Complexity of Repository:  12306\n",
      "Dumped data from Repository: 12306 (into file: ./analysisPCC.json)\n",
      "Deleted Repository:  12306\n",
      "================ 2 ================\n",
      "Cloned Repository:  incubator-mxnet\n",
      "Analysed Repository:  incubator-mxnet\n",
      "Analysed Complexity of Repository:  incubator-mxnet\n",
      "Dumped data from Repository: incubator-mxnet (into file: ./analysisPCC.json)\n",
      "Deleted Repository:  incubator-mxnet\n",
      "================ 3 ================\n",
      "Cloned Repository:  sqlmap\n",
      "Analysed Repository:  sqlmap\n",
      "Analysed Complexity of Repository:  sqlmap\n",
      "Dumped data from Repository: sqlmap (into file: ./analysisPCC.json)\n",
      "Deleted Repository:  sqlmap\n",
      "================ 4 ================\n",
      "Cloned Repository:  airflow\n",
      "Analysed Repository:  airflow\n",
      "Analysed Complexity of Repository:  airflow\n",
      "Dumped data from Repository: airflow (into file: ./analysisPCC.json)\n",
      "Deleted Repository:  airflow\n",
      "================ 5 ================\n",
      "Cloned Repository:  ipython\n"
     ]
    },
    {
     "name": "stderr",
     "output_type": "stream",
     "text": [
      "cannot read repos/ipython/IPython/core/tests/nonascii.py using encoding utf-8: 'utf-8' codec can't decode byte 0xb1 in position 81: invalid start byte\n"
     ]
    },
    {
     "name": "stdout",
     "output_type": "stream",
     "text": [
      "Analysed Repository:  ipython\n",
      "Analysed Complexity of Repository:  ipython\n",
      "Dumped data from Repository: ipython (into file: ./analysisPCC.json)\n",
      "Deleted Repository:  ipython\n",
      "================ 6 ================\n",
      "Cloned Repository:  kivy\n",
      "Analysed Repository:  kivy\n",
      "Analysed Complexity of Repository:  kivy\n",
      "Dumped data from Repository: kivy (into file: ./analysisPCC.json)\n",
      "Deleted Repository:  kivy\n",
      "================ 7 ================\n",
      "Cloned Repository:  gensim\n",
      "Analysed Repository:  gensim\n",
      "Analysed Complexity of Repository:  gensim\n",
      "Dumped data from Repository: gensim (into file: ./analysisPCC.json)\n",
      "Deleted Repository:  gensim\n",
      "================ 8 ================\n",
      "Cloned Repository:  FastPhotoStyle\n",
      "Analysed Repository:  FastPhotoStyle\n",
      "Analysed Complexity of Repository:  FastPhotoStyle\n",
      "Dumped data from Repository: FastPhotoStyle (into file: ./analysisPCC.json)\n",
      "Deleted Repository:  FastPhotoStyle\n",
      "================ 9 ================\n",
      "Cloned Repository:  InstaPy\n",
      "Analysed Repository:  InstaPy\n",
      "Analysed Complexity of Repository:  InstaPy\n",
      "Dumped data from Repository: InstaPy (into file: ./analysisPCC.json)\n",
      "Deleted Repository:  InstaPy\n",
      "================ 10 ================\n",
      "Cloned Repository:  Theano\n"
     ]
    }
   ],
   "source": [
    "for i in range (0, 50):\n",
    "    print(\"================ {} ================\".format(i))\n",
    "    try:\n",
    "        r = user.get_repo(int(df['id'][i]))\n",
    "    except RateLimitExceededException:\n",
    "        check_rate_limit()\n",
    "        continue\n",
    "        \n",
    "    repo = Repository(r, './repos/', './analysisPCC.json')\n",
    "    repo.download()\n",
    "    repo.analyse()\n",
    "    repo.analyseComplexity()\n",
    "    repo.dump()\n",
    "    repo.delete()"
   ]
  },
  {
   "cell_type": "code",
   "execution_count": null,
   "metadata": {},
   "outputs": [],
   "source": []
  }
 ],
 "metadata": {
  "kernelspec": {
   "display_name": "Python 3",
   "language": "python",
   "name": "python3"
  },
  "language_info": {
   "codemirror_mode": {
    "name": "ipython",
    "version": 3
   },
   "file_extension": ".py",
   "mimetype": "text/x-python",
   "name": "python",
   "nbconvert_exporter": "python",
   "pygments_lexer": "ipython3",
   "version": "3.7.3"
  }
 },
 "nbformat": 4,
 "nbformat_minor": 2
}
