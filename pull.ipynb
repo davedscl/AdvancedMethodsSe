{
 "cells": [
  {
   "cell_type": "code",
   "execution_count": 1,
   "metadata": {},
   "outputs": [],
   "source": [
    "from github import Github\n",
    "import pandas as pd\n",
    "import os\n",
    "\n",
    "from repository import Repository"
   ]
  },
  {
   "cell_type": "code",
   "execution_count": 2,
   "metadata": {},
   "outputs": [],
   "source": [
    "# Read Token\n",
    "access_token = open('GITHUB_TOKEN.txt', 'r').read()\n",
    "user = Github(access_token)\n",
    "user.per_page = 100"
   ]
  },
  {
   "cell_type": "code",
   "execution_count": 3,
   "metadata": {
    "scrolled": true
   },
   "outputs": [],
   "source": [
    "df = pd.read_json ('./data/python_best.json')"
   ]
  },
  {
   "cell_type": "code",
   "execution_count": 4,
   "metadata": {
    "scrolled": true
   },
   "outputs": [
    {
     "data": {
      "text/html": [
       "<div>\n",
       "<style scoped>\n",
       "    .dataframe tbody tr th:only-of-type {\n",
       "        vertical-align: middle;\n",
       "    }\n",
       "\n",
       "    .dataframe tbody tr th {\n",
       "        vertical-align: top;\n",
       "    }\n",
       "\n",
       "    .dataframe thead th {\n",
       "        text-align: right;\n",
       "    }\n",
       "</style>\n",
       "<table border=\"1\" class=\"dataframe\">\n",
       "  <thead>\n",
       "    <tr style=\"text-align: right;\">\n",
       "      <th></th>\n",
       "      <th>default_branch</th>\n",
       "      <th>forks</th>\n",
       "      <th>id</th>\n",
       "      <th>language</th>\n",
       "      <th>name</th>\n",
       "      <th>owner</th>\n",
       "      <th>stars</th>\n",
       "    </tr>\n",
       "  </thead>\n",
       "  <tbody>\n",
       "    <tr>\n",
       "      <th>0</th>\n",
       "      <td>master</td>\n",
       "      <td>10230</td>\n",
       "      <td>1039520</td>\n",
       "      <td>Python</td>\n",
       "      <td>youtube-dl</td>\n",
       "      <td>ytdl-org</td>\n",
       "      <td>58922</td>\n",
       "    </tr>\n",
       "    <tr>\n",
       "      <th>1</th>\n",
       "      <td>master</td>\n",
       "      <td>5904</td>\n",
       "      <td>91573538</td>\n",
       "      <td>Python</td>\n",
       "      <td>12306</td>\n",
       "      <td>testerSunshine</td>\n",
       "      <td>18800</td>\n",
       "    </tr>\n",
       "    <tr>\n",
       "      <th>2</th>\n",
       "      <td>master</td>\n",
       "      <td>6465</td>\n",
       "      <td>34864402</td>\n",
       "      <td>Python</td>\n",
       "      <td>incubator-mxnet</td>\n",
       "      <td>apache</td>\n",
       "      <td>18167</td>\n",
       "    </tr>\n",
       "    <tr>\n",
       "      <th>3</th>\n",
       "      <td>master</td>\n",
       "      <td>3444</td>\n",
       "      <td>4793392</td>\n",
       "      <td>Python</td>\n",
       "      <td>sqlmap</td>\n",
       "      <td>sqlmapproject</td>\n",
       "      <td>15876</td>\n",
       "    </tr>\n",
       "    <tr>\n",
       "      <th>4</th>\n",
       "      <td>master</td>\n",
       "      <td>5656</td>\n",
       "      <td>33884891</td>\n",
       "      <td>Python</td>\n",
       "      <td>airflow</td>\n",
       "      <td>apache</td>\n",
       "      <td>14953</td>\n",
       "    </tr>\n",
       "  </tbody>\n",
       "</table>\n",
       "</div>"
      ],
      "text/plain": [
       "  default_branch  forks        id language             name           owner  \\\n",
       "0         master  10230   1039520   Python       youtube-dl        ytdl-org   \n",
       "1         master   5904  91573538   Python            12306  testerSunshine   \n",
       "2         master   6465  34864402   Python  incubator-mxnet          apache   \n",
       "3         master   3444   4793392   Python           sqlmap   sqlmapproject   \n",
       "4         master   5656  33884891   Python          airflow          apache   \n",
       "\n",
       "   stars  \n",
       "0  58922  \n",
       "1  18800  \n",
       "2  18167  \n",
       "3  15876  \n",
       "4  14953  "
      ]
     },
     "execution_count": 4,
     "metadata": {},
     "output_type": "execute_result"
    }
   ],
   "source": [
    "df.head()"
   ]
  },
  {
   "cell_type": "code",
   "execution_count": 5,
   "metadata": {},
   "outputs": [
    {
     "data": {
      "text/plain": [
       "1000"
      ]
     },
     "execution_count": 5,
     "metadata": {},
     "output_type": "execute_result"
    }
   ],
   "source": [
    "len(df)"
   ]
  },
  {
   "cell_type": "code",
   "execution_count": null,
   "metadata": {},
   "outputs": [
    {
     "name": "stdout",
     "output_type": "stream",
     "text": [
      "================ 0 ================\n",
      "Cloned Repository:  youtube-dl\n",
      "Analysed Repository:  youtube-dl\n",
      "Dumped data from Repository: youtube-dl (into file: ./analysis.json)\n",
      "Deleted Repository:  youtube-dl\n",
      "================ 1 ================\n",
      "Cloned Repository:  12306\n",
      "Analysed Repository:  12306\n",
      "Dumped data from Repository: 12306 (into file: ./analysis.json)\n",
      "Deleted Repository:  12306\n",
      "================ 2 ================\n",
      "Cloned Repository:  incubator-mxnet\n",
      "Analysed Repository:  incubator-mxnet\n",
      "Dumped data from Repository: incubator-mxnet (into file: ./analysis.json)\n",
      "Deleted Repository:  incubator-mxnet\n",
      "================ 3 ================\n",
      "Cloned Repository:  sqlmap\n",
      "Analysed Repository:  sqlmap\n",
      "Dumped data from Repository: sqlmap (into file: ./analysis.json)\n",
      "Deleted Repository:  sqlmap\n",
      "================ 4 ================\n",
      "Cloned Repository:  airflow\n",
      "Analysed Repository:  airflow\n",
      "Dumped data from Repository: airflow (into file: ./analysis.json)\n",
      "Deleted Repository:  airflow\n",
      "================ 5 ================\n",
      "Cloned Repository:  ipython\n"
     ]
    },
    {
     "name": "stderr",
     "output_type": "stream",
     "text": [
      "cannot read ./repos/ipython/IPython/core/tests/nonascii.py using encoding utf-8: 'utf-8' codec can't decode byte 0xb1 in position 81: invalid start byte\n"
     ]
    },
    {
     "name": "stdout",
     "output_type": "stream",
     "text": [
      "Analysed Repository:  ipython\n",
      "Dumped data from Repository: ipython (into file: ./analysis.json)\n",
      "Deleted Repository:  ipython\n",
      "================ 6 ================\n",
      "Cloned Repository:  kivy\n",
      "Analysed Repository:  kivy\n",
      "Dumped data from Repository: kivy (into file: ./analysis.json)\n",
      "Deleted Repository:  kivy\n",
      "================ 7 ================\n",
      "Cloned Repository:  gensim\n",
      "Analysed Repository:  gensim\n",
      "Dumped data from Repository: gensim (into file: ./analysis.json)\n",
      "Deleted Repository:  gensim\n",
      "================ 8 ================\n",
      "Cloned Repository:  FastPhotoStyle\n",
      "Analysed Repository:  FastPhotoStyle\n",
      "Dumped data from Repository: FastPhotoStyle (into file: ./analysis.json)\n",
      "Deleted Repository:  FastPhotoStyle\n",
      "================ 9 ================\n",
      "Cloned Repository:  InstaPy\n",
      "Analysed Repository:  InstaPy\n",
      "Dumped data from Repository: InstaPy (into file: ./analysis.json)\n",
      "Deleted Repository:  InstaPy\n",
      "================ 10 ================\n",
      "Cloned Repository:  Theano\n"
     ]
    }
   ],
   "source": [
    "for i in range (0, len(df)):\n",
    "    print(\"================ {} ================\".format(i))\n",
    "    r = user.get_repo(int(df['id'][i]))\n",
    "    repo = Repository(r, './repos/', './analysis.json')\n",
    "    repo.download()\n",
    "    repo.analyse()\n",
    "    repo.dump()\n",
    "    repo.delete()"
   ]
  }
 ],
 "metadata": {
  "kernelspec": {
   "display_name": "Python 3",
   "language": "python",
   "name": "python3"
  },
  "language_info": {
   "codemirror_mode": {
    "name": "ipython",
    "version": 3
   },
   "file_extension": ".py",
   "mimetype": "text/x-python",
   "name": "python",
   "nbconvert_exporter": "python",
   "pygments_lexer": "ipython3",
   "version": "3.7.3"
  }
 },
 "nbformat": 4,
 "nbformat_minor": 2
}
