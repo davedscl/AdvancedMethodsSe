{
 "cells": [
  {
   "cell_type": "code",
   "execution_count": 1,
   "metadata": {},
   "outputs": [],
   "source": [
    "from github import Github, RateLimitExceededException\n",
    "import os"
   ]
  },
  {
   "cell_type": "code",
   "execution_count": 98,
   "metadata": {},
   "outputs": [],
   "source": [
    "# Read Token\n",
    "access_token = open('GITHUB_TOKEN.txt', 'r').read()\n",
    "user = Github(access_token)\n",
    "user.per_page = 100\n",
    "\n",
    "\n",
    "def check_rate_limit():\n",
    "    rate_limit = user.get_rate_limit()\n",
    "    remaining = rate_limit.search.remaining\n",
    "    \n",
    "    if remaining > 0:\n",
    "        return\n",
    "    \n",
    "    reset_time = rate_limit.search.reset\n",
    "    now = datetime.utcnow()\n",
    "\n",
    "    if now < reset_time:\n",
    "        sleep_time = (reset_time - now).total_seconds()\n",
    "        print('=> Waiting {} seconds for rate limit reset.'.format(sleep_time))\n",
    "        time.sleep(sleep_time)\n",
    "        \n",
    "# Number of Results = NumberOfRequests * 10 pages * 100 resultsPerPage\n",
    "def search(language, borders, filename):\n",
    "    \n",
    "    repo_list = []\n",
    "    \n",
    "    \n",
    "    # Search for the repositories till limit is reached\n",
    "    for b in borders:\n",
    "        try:\n",
    "            stars_query = ', stars:' + str(b[0]) + '..' + str(b[1])\n",
    "            repos = user.search_repositories(query='language:'+ language + stars_query, sort='stars', order='desc')\n",
    "            \n",
    "            # Iterate through pages\n",
    "            for j in range (0,10):\n",
    "                \n",
    "                # Iterate through repositories of a page\n",
    "                for elementOfPage in repos.get_page(j):\n",
    "                    \n",
    "                    repo_list.append({\n",
    "                        'id': elementOfPage.id,\n",
    "                        'owner': elementOfPage.owner.login,\n",
    "                        'name': elementOfPage.name,\n",
    "                        'language': language,\n",
    "                        'stars': elementOfPage.stargazers_count,\n",
    "                        'forks': elementOfPage.forks_count,\n",
    "                        'default_branch': elementOfPage.default_branch,\n",
    "                    })\n",
    "               \n",
    "        except RateLimitExceededException:\n",
    "            check_rate_limit()\n",
    "            continue\n",
    "            \n",
    "    with open(filename, 'w') as f:\n",
    "        f.write(json.dumps(repo_list, indent=4))"
   ]
  },
  {
   "cell_type": "code",
   "execution_count": 86,
   "metadata": {},
   "outputs": [],
   "source": [
    "PYTHON_BORDERS = [\n",
    "    [5000, 80000],\n",
    "    [2500, 4999],\n",
    "    [1500, 2499],\n",
    "    [1000, 1499],\n",
    "    [750, 999],\n",
    "    [600, 749],\n",
    "    [500, 599],\n",
    "] "
   ]
  },
  {
   "cell_type": "code",
   "execution_count": 99,
   "metadata": {},
   "outputs": [],
   "source": [
    "r = search(\"Python\", PYTHON_BORDERS, 'python.json')"
   ]
  }
 ],
 "metadata": {
  "kernelspec": {
   "display_name": "Python 3",
   "language": "python",
   "name": "python3"
  },
  "language_info": {
   "codemirror_mode": {
    "name": "ipython",
    "version": 3
   },
   "file_extension": ".py",
   "mimetype": "text/x-python",
   "name": "python",
   "nbconvert_exporter": "python",
   "pygments_lexer": "ipython3",
   "version": "3.7.3"
  }
 },
 "nbformat": 4,
 "nbformat_minor": 2
}
