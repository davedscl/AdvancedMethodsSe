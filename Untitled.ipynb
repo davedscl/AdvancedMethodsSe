{
 "cells": [
  {
   "cell_type": "code",
   "execution_count": 4,
   "metadata": {},
   "outputs": [],
   "source": [
    "from github import Github, RateLimitExceededException\n",
    "import os"
   ]
  },
  {
   "cell_type": "code",
   "execution_count": 5,
   "metadata": {},
   "outputs": [],
   "source": [
    "# Read Token\n",
    "access_token = open('GITHUB_TOKEN_M.txt', 'r').read()\n",
    "user = Github(access_token)\n",
    "user.per_page = 100\n",
    "\n",
    "\n",
    "def check_rate_limit():\n",
    "    rate_limit = user.get_rate_limit()\n",
    "    remaining = rate_limit.search.remaining\n",
    "    \n",
    "    if remaining > 0:\n",
    "        return\n",
    "    \n",
    "    reset_time = rate_limit.search.reset\n",
    "    now = datetime.utcnow()\n",
    "\n",
    "    if now < reset_time:\n",
    "        sleep_time = (reset_time - now).total_seconds()\n",
    "        from math import ceil\n",
    "        print(f'=> Waiting {ceil(sleep_time)} seconds for rate limit reset.')\n",
    "        time.sleep(sleep_time)\n",
    "\n",
    "def search():\n",
    "    while True:\n",
    "        try:\n",
    "            repos = user.search_repositories(f'language:{language}', 'stars', 'desc')\n",
    "            total = repos.totalCount\n",
    "            break\n",
    "        except RateLimitExceededException:\n",
    "          check_rate_limit()\n",
    "          continue    \n",
    "        \n",
    "            "
   ]
  }
 ],
 "metadata": {
  "kernelspec": {
   "display_name": "Python 3",
   "language": "python",
   "name": "python3"
  },
  "language_info": {
   "codemirror_mode": {
    "name": "ipython",
    "version": 3
   },
   "file_extension": ".py",
   "mimetype": "text/x-python",
   "name": "python",
   "nbconvert_exporter": "python",
   "pygments_lexer": "ipython3",
   "version": "3.7.3"
  }
 },
 "nbformat": 4,
 "nbformat_minor": 2
}
