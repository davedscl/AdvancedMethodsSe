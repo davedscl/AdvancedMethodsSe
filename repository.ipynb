{
 "cells": [
  {
   "cell_type": "code",
   "execution_count": 5,
   "metadata": {},
   "outputs": [],
   "source": [
    "from git import Repo\n",
    "\n",
    "\n",
    "class Repository:\n",
    "    \n",
    "    def __init__(self, repository, path):\n",
    "        self.repository = repository\n",
    "        self.path = path\n",
    "        \n",
    "    def download(self):\n",
    "        Repo.clone_from(self.repository.clone_url, self.path)\n",
    "        print(\"Cloned Repository: \", self.repository.name)\n",
    "        \n",
    "    def "
   ]
  }
 ],
 "metadata": {
  "kernelspec": {
   "display_name": "Python 3",
   "language": "python",
   "name": "python3"
  },
  "language_info": {
   "codemirror_mode": {
    "name": "ipython",
    "version": 3
   },
   "file_extension": ".py",
   "mimetype": "text/x-python",
   "name": "python",
   "nbconvert_exporter": "python",
   "pygments_lexer": "ipython3",
   "version": "3.7.3"
  }
 },
 "nbformat": 4,
 "nbformat_minor": 2
}
