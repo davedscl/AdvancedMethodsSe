{
 "cells": [
  {
   "cell_type": "code",
   "execution_count": 21,
   "metadata": {},
   "outputs": [],
   "source": [
    "import pandas as pd"
   ]
  },
  {
   "cell_type": "code",
   "execution_count": 22,
   "metadata": {
    "scrolled": true
   },
   "outputs": [
    {
     "data": {
      "text/html": [
       "<div>\n",
       "<style scoped>\n",
       "    .dataframe tbody tr th:only-of-type {\n",
       "        vertical-align: middle;\n",
       "    }\n",
       "\n",
       "    .dataframe tbody tr th {\n",
       "        vertical-align: top;\n",
       "    }\n",
       "\n",
       "    .dataframe thead th {\n",
       "        text-align: right;\n",
       "    }\n",
       "</style>\n",
       "<table border=\"1\" class=\"dataframe\">\n",
       "  <thead>\n",
       "    <tr style=\"text-align: right;\">\n",
       "      <th></th>\n",
       "      <th>codelines</th>\n",
       "      <th>commentlines</th>\n",
       "      <th>emptylines</th>\n",
       "      <th>forks</th>\n",
       "      <th>language</th>\n",
       "      <th>name</th>\n",
       "      <th>owner</th>\n",
       "      <th>stars</th>\n",
       "    </tr>\n",
       "  </thead>\n",
       "  <tbody>\n",
       "    <tr>\n",
       "      <th>0</th>\n",
       "      <td>111693</td>\n",
       "      <td>5540</td>\n",
       "      <td>27558</td>\n",
       "      <td>10239</td>\n",
       "      <td>Python</td>\n",
       "      <td>youtube-dl</td>\n",
       "      <td>ytdl-org</td>\n",
       "      <td>58968</td>\n",
       "    </tr>\n",
       "    <tr>\n",
       "      <th>1</th>\n",
       "      <td>3259</td>\n",
       "      <td>736</td>\n",
       "      <td>527</td>\n",
       "      <td>5993</td>\n",
       "      <td>Python</td>\n",
       "      <td>12306</td>\n",
       "      <td>testerSunshine</td>\n",
       "      <td>19114</td>\n",
       "    </tr>\n",
       "    <tr>\n",
       "      <th>2</th>\n",
       "      <td>127231</td>\n",
       "      <td>75599</td>\n",
       "      <td>25445</td>\n",
       "      <td>6465</td>\n",
       "      <td>Python</td>\n",
       "      <td>incubator-mxnet</td>\n",
       "      <td>apache</td>\n",
       "      <td>18169</td>\n",
       "    </tr>\n",
       "    <tr>\n",
       "      <th>3</th>\n",
       "      <td>51391</td>\n",
       "      <td>11696</td>\n",
       "      <td>13760</td>\n",
       "      <td>3446</td>\n",
       "      <td>Python</td>\n",
       "      <td>sqlmap</td>\n",
       "      <td>sqlmapproject</td>\n",
       "      <td>15884</td>\n",
       "    </tr>\n",
       "    <tr>\n",
       "      <th>4</th>\n",
       "      <td>128059</td>\n",
       "      <td>63379</td>\n",
       "      <td>35178</td>\n",
       "      <td>5663</td>\n",
       "      <td>Python</td>\n",
       "      <td>airflow</td>\n",
       "      <td>apache</td>\n",
       "      <td>14969</td>\n",
       "    </tr>\n",
       "  </tbody>\n",
       "</table>\n",
       "</div>"
      ],
      "text/plain": [
       "   codelines  commentlines  emptylines  forks language             name  \\\n",
       "0     111693          5540       27558  10239   Python       youtube-dl   \n",
       "1       3259           736         527   5993   Python            12306   \n",
       "2     127231         75599       25445   6465   Python  incubator-mxnet   \n",
       "3      51391         11696       13760   3446   Python           sqlmap   \n",
       "4     128059         63379       35178   5663   Python          airflow   \n",
       "\n",
       "            owner  stars  \n",
       "0        ytdl-org  58968  \n",
       "1  testerSunshine  19114  \n",
       "2          apache  18169  \n",
       "3   sqlmapproject  15884  \n",
       "4          apache  14969  "
      ]
     },
     "execution_count": 22,
     "metadata": {},
     "output_type": "execute_result"
    }
   ],
   "source": [
    "df_python = pd.read_json ('analysis.json')\n",
    "df.head()"
   ]
  },
  {
   "cell_type": "code",
   "execution_count": 23,
   "metadata": {},
   "outputs": [
    {
     "data": {
      "text/html": [
       "<div>\n",
       "<style scoped>\n",
       "    .dataframe tbody tr th:only-of-type {\n",
       "        vertical-align: middle;\n",
       "    }\n",
       "\n",
       "    .dataframe tbody tr th {\n",
       "        vertical-align: top;\n",
       "    }\n",
       "\n",
       "    .dataframe thead th {\n",
       "        text-align: right;\n",
       "    }\n",
       "</style>\n",
       "<table border=\"1\" class=\"dataframe\">\n",
       "  <thead>\n",
       "    <tr style=\"text-align: right;\">\n",
       "      <th></th>\n",
       "      <th>codelines</th>\n",
       "      <th>commentlines</th>\n",
       "      <th>emptylines</th>\n",
       "      <th>forks</th>\n",
       "      <th>language</th>\n",
       "      <th>name</th>\n",
       "      <th>owner</th>\n",
       "      <th>stars</th>\n",
       "    </tr>\n",
       "  </thead>\n",
       "  <tbody>\n",
       "    <tr>\n",
       "      <th>0</th>\n",
       "      <td>111693</td>\n",
       "      <td>5540</td>\n",
       "      <td>27558</td>\n",
       "      <td>10239</td>\n",
       "      <td>Python</td>\n",
       "      <td>youtube-dl</td>\n",
       "      <td>ytdl-org</td>\n",
       "      <td>58968</td>\n",
       "    </tr>\n",
       "    <tr>\n",
       "      <th>1</th>\n",
       "      <td>3259</td>\n",
       "      <td>736</td>\n",
       "      <td>527</td>\n",
       "      <td>5993</td>\n",
       "      <td>Python</td>\n",
       "      <td>12306</td>\n",
       "      <td>testerSunshine</td>\n",
       "      <td>19114</td>\n",
       "    </tr>\n",
       "    <tr>\n",
       "      <th>2</th>\n",
       "      <td>127231</td>\n",
       "      <td>75599</td>\n",
       "      <td>25445</td>\n",
       "      <td>6465</td>\n",
       "      <td>Python</td>\n",
       "      <td>incubator-mxnet</td>\n",
       "      <td>apache</td>\n",
       "      <td>18169</td>\n",
       "    </tr>\n",
       "    <tr>\n",
       "      <th>3</th>\n",
       "      <td>51391</td>\n",
       "      <td>11696</td>\n",
       "      <td>13760</td>\n",
       "      <td>3446</td>\n",
       "      <td>Python</td>\n",
       "      <td>sqlmap</td>\n",
       "      <td>sqlmapproject</td>\n",
       "      <td>15884</td>\n",
       "    </tr>\n",
       "    <tr>\n",
       "      <th>4</th>\n",
       "      <td>128059</td>\n",
       "      <td>63379</td>\n",
       "      <td>35178</td>\n",
       "      <td>5663</td>\n",
       "      <td>Python</td>\n",
       "      <td>airflow</td>\n",
       "      <td>apache</td>\n",
       "      <td>14969</td>\n",
       "    </tr>\n",
       "  </tbody>\n",
       "</table>\n",
       "</div>"
      ],
      "text/plain": [
       "   codelines  commentlines  emptylines  forks language             name  \\\n",
       "0     111693          5540       27558  10239   Python       youtube-dl   \n",
       "1       3259           736         527   5993   Python            12306   \n",
       "2     127231         75599       25445   6465   Python  incubator-mxnet   \n",
       "3      51391         11696       13760   3446   Python           sqlmap   \n",
       "4     128059         63379       35178   5663   Python          airflow   \n",
       "\n",
       "            owner  stars  \n",
       "0        ytdl-org  58968  \n",
       "1  testerSunshine  19114  \n",
       "2          apache  18169  \n",
       "3   sqlmapproject  15884  \n",
       "4          apache  14969  "
      ]
     },
     "execution_count": 23,
     "metadata": {},
     "output_type": "execute_result"
    }
   ],
   "source": [
    "df_java = pd.read_json ('analysis_java_worst.json')\n",
    "df.head()"
   ]
  },
  {
   "cell_type": "code",
   "execution_count": 24,
   "metadata": {},
   "outputs": [],
   "source": [
    "codelines_python = df_python['codelines'].values\n",
    "commentlines_python = df_python['commentlines'].values\n",
    "emptylines_python = df_python['emptylines'].values"
   ]
  },
  {
   "cell_type": "code",
   "execution_count": 25,
   "metadata": {},
   "outputs": [],
   "source": [
    "codelines_java = df_java['codelines'].values\n",
    "commentlines_java = df_java['commentlines'].values\n",
    "emptylines_java = df_java['emptylines'].values"
   ]
  },
  {
   "cell_type": "code",
   "execution_count": 37,
   "metadata": {},
   "outputs": [
    {
     "data": {
      "text/plain": [
       "0.2481060830484646"
      ]
     },
     "execution_count": 37,
     "metadata": {},
     "output_type": "execute_result"
    }
   ],
   "source": [
    "commentlines_python.sum()/(commentlines_python.sum() + codelines_python.sum())"
   ]
  },
  {
   "cell_type": "code",
   "execution_count": 38,
   "metadata": {},
   "outputs": [
    {
     "data": {
      "text/plain": [
       "0.344751392204739"
      ]
     },
     "execution_count": 38,
     "metadata": {},
     "output_type": "execute_result"
    }
   ],
   "source": [
    "commentlines_java.sum()/(commentlines_java.sum() + codelines_java.sum())"
   ]
  },
  {
   "cell_type": "code",
   "execution_count": 10,
   "metadata": {},
   "outputs": [
    {
     "data": {
      "application/vnd.plotly.v1+json": {
       "config": {
        "plotlyServerURL": "https://plot.ly"
       },
       "data": [
        {
         "type": "histogram",
         "x": [
          111693,
          3259,
          127231,
          51391,
          128059,
          35907,
          60975,
          34302,
          1415,
          11470,
          144611,
          60406,
          53504,
          9752,
          3075,
          27436,
          41354,
          31360,
          179980,
          237,
          2609,
          2981,
          8636,
          1,
          75584,
          42612,
          31645,
          29088,
          42867,
          350,
          57252,
          132087,
          6284,
          2521,
          76572,
          83760,
          148598,
          67493,
          90174,
          4253,
          11408,
          43392,
          6786,
          128026,
          8827,
          1878,
          8999,
          39993,
          37429,
          78208,
          3641,
          8862,
          187233,
          46214,
          229522,
          7291,
          1383,
          53684,
          4103,
          58482,
          1571,
          1324,
          122423,
          285,
          1279,
          1522,
          119,
          22506,
          3686,
          8598,
          25078,
          348838,
          20403,
          3446,
          15681,
          18901,
          692,
          3498,
          9169,
          154923,
          138419,
          2010,
          102452,
          3044,
          15755,
          105383,
          8237,
          2254,
          12832,
          2346,
          180021,
          1399,
          27009,
          324,
          26466,
          15620,
          3057,
          1430,
          58073,
          8121,
          2775,
          9312,
          3184,
          2779,
          1750,
          24813,
          27169,
          17704,
          6324,
          1723,
          2845,
          2820,
          416,
          69578,
          1966,
          176763,
          41641,
          11766,
          5603,
          332,
          5287,
          12696,
          325,
          110499,
          109508,
          47485,
          21725,
          2504,
          681,
          54405,
          3454,
          28,
          2456,
          33570,
          3555,
          4214,
          294,
          13677,
          57923,
          8810,
          9865,
          8199,
          1065,
          7874,
          27674,
          67739,
          41986,
          61773,
          1938,
          6910,
          3128,
          483232,
          190587,
          7912,
          1113,
          1854,
          3687,
          17399,
          19865,
          13858,
          40134,
          3336,
          2098,
          15864,
          599,
          82765,
          6367,
          12935,
          46195,
          21347,
          2091,
          8225,
          574,
          4530,
          6156,
          15769,
          17028,
          0,
          50756,
          679,
          1124,
          3228,
          16261,
          4699,
          23312,
          8781,
          73730,
          96514,
          7219,
          41473,
          2494,
          576,
          21229,
          2622,
          69588,
          3469,
          303,
          5627,
          33811,
          289,
          43300,
          20136,
          803,
          2208,
          1521,
          430,
          20088,
          2112,
          453,
          463,
          582,
          1952,
          24772,
          1354,
          983,
          2313,
          6413,
          50239,
          0,
          768,
          312,
          12576,
          8827,
          11860,
          87764,
          1218,
          1129,
          15773,
          18349,
          40377,
          656,
          4720,
          578,
          3812,
          1384,
          209018,
          2220,
          1728,
          21511,
          485,
          2737,
          204,
          850,
          19868,
          1377,
          1892,
          51461,
          5826,
          821,
          1588,
          6306,
          728,
          1216,
          12030,
          16664,
          1273,
          77623,
          252499,
          28142,
          568,
          2690,
          14077,
          110260,
          396,
          70,
          4128,
          1438,
          6391,
          1928,
          6458,
          1788,
          949,
          12918,
          2608,
          6061,
          7282,
          1344,
          3022,
          1513,
          611,
          2216,
          83453,
          775,
          6341,
          2160,
          63504,
          2793,
          3082,
          109497,
          2047,
          95011,
          84441,
          189,
          3565,
          893,
          332,
          446,
          1202,
          6850,
          1204,
          6812,
          235,
          15913,
          1900,
          82401,
          8121,
          658,
          9872,
          3379,
          1524,
          1490,
          694,
          3160,
          195241,
          3769,
          11143,
          1376,
          492,
          15103,
          180,
          614,
          4793,
          2010,
          489,
          1627,
          2385,
          527,
          17107,
          12024,
          397,
          1435,
          11013,
          42936,
          37564,
          11336,
          7924,
          42893,
          3335,
          1008,
          1258,
          1844,
          4923,
          6480,
          10559,
          1193,
          201,
          825,
          22369,
          436,
          644,
          4054,
          404,
          1354,
          260246,
          1733,
          387,
          1876,
          309983,
          395,
          1933,
          1067,
          3481,
          6286,
          63037,
          21668,
          11409,
          428,
          6207,
          805,
          1031,
          7351,
          598,
          1466,
          176337,
          6960,
          7378,
          618,
          6282,
          8623,
          1024,
          687,
          2330,
          71120,
          1578,
          4471,
          280,
          4274,
          3034,
          948,
          805,
          27846,
          14715,
          611,
          400,
          997,
          296,
          1011,
          336,
          19631,
          11303,
          2759,
          1001,
          549,
          40599,
          1330,
          12207,
          4563,
          571,
          496,
          28160,
          169,
          3433,
          2561,
          16091,
          696,
          4605,
          4743,
          24644,
          9335,
          2510,
          7495,
          292,
          1835,
          239,
          2150,
          192,
          646,
          449,
          40300,
          3486,
          3719,
          2693,
          70537,
          108,
          10584,
          4094,
          665,
          818,
          42915,
          685,
          1187,
          80298,
          698723,
          795,
          3617,
          1060,
          2180,
          3942,
          3792,
          22670,
          3540,
          5086,
          827,
          2076,
          8982,
          1873,
          203747,
          44358,
          769,
          852,
          6884,
          513,
          30986,
          1295,
          32909,
          1329,
          909,
          9230,
          364,
          82504,
          6489,
          1472,
          28306,
          7260,
          1654,
          862,
          223,
          12813,
          980,
          10450,
          320,
          14541,
          1073,
          708,
          11881,
          443,
          1899,
          7453,
          412,
          64,
          307,
          4183,
          210,
          375,
          3386,
          3257,
          4994,
          10512,
          6870,
          839,
          1820,
          563,
          126,
          2098,
          3396,
          1768,
          6744,
          41777,
          43166,
          91,
          231,
          19180,
          3238,
          461,
          595,
          2390,
          1862,
          4213,
          3208,
          1173,
          21955,
          567,
          1020,
          1352,
          1879,
          489,
          4282,
          2073,
          6538,
          112,
          263,
          10256,
          135,
          746,
          724,
          15800,
          81026,
          212,
          215,
          1570,
          618,
          92465,
          1428,
          8496,
          3183,
          1058,
          2789,
          724,
          4609,
          10522,
          5699,
          1266,
          275551,
          1882,
          37516,
          413,
          3603,
          196334,
          15162,
          797021,
          31369,
          301,
          1319,
          919,
          2397,
          591,
          11833,
          106,
          6186,
          39269,
          1273,
          6893,
          2848,
          27608,
          5255,
          5440,
          688,
          927,
          30773,
          3361,
          1406,
          271,
          403,
          749,
          1129,
          2110,
          1322,
          420,
          254,
          669,
          25464,
          870,
          469,
          3506,
          19959,
          11259,
          1354,
          5063,
          69671,
          2594,
          3453,
          1066743,
          380,
          40,
          723,
          6483,
          910,
          2412,
          738,
          1269,
          45812,
          544,
          565,
          263,
          1138,
          159,
          308,
          6947,
          15345,
          457,
          1169,
          2765,
          1664,
          74599,
          605,
          3177,
          1113,
          717,
          785,
          2657,
          687,
          5363,
          211,
          359,
          10493,
          3927,
          1230,
          30749,
          9909,
          244,
          3302,
          878,
          767,
          3736,
          711,
          293901,
          507,
          999,
          12224,
          1950,
          1316,
          372,
          82816,
          1134,
          166,
          105638,
          31972,
          1271,
          1834,
          14684,
          1577,
          2267,
          557,
          4578,
          4211,
          9106,
          648,
          618,
          1936,
          30384,
          1177,
          4960,
          618,
          4417,
          31620,
          44729,
          96023,
          565,
          1252,
          81075,
          127,
          5236,
          4844,
          1084,
          4096,
          40787,
          94308,
          963,
          1782,
          7426,
          39,
          762,
          3682,
          2618,
          592382,
          280,
          295,
          1443,
          806,
          6102,
          508,
          2273,
          10137,
          1931,
          5408,
          33102,
          25379,
          199,
          1328,
          24833,
          45607,
          35041,
          1404,
          843,
          1182,
          2809,
          1715,
          12540,
          188,
          1028,
          3075,
          29492,
          3399,
          654,
          605,
          1312,
          10043,
          164,
          11385,
          1212,
          11142,
          13240,
          6731,
          25096,
          366,
          1146,
          7413,
          203,
          45759,
          5276,
          14240,
          3812,
          1687,
          9457,
          40,
          193,
          189857,
          1275,
          159,
          4740,
          4020,
          774,
          1042,
          114,
          48,
          371903,
          599,
          289500,
          4586,
          3246,
          391,
          101,
          1188,
          20534,
          5355,
          396,
          6454,
          53,
          633,
          22684,
          827,
          782,
          14923,
          7051,
          1398,
          28641,
          585,
          2506,
          2762,
          97336,
          1252,
          9827,
          208,
          518,
          19993,
          15926,
          1800,
          5746,
          271,
          679,
          54190,
          14380,
          21494,
          1076,
          2276,
          485,
          1046,
          291,
          1507,
          6661,
          2204,
          124,
          1230,
          999,
          35443,
          2613,
          2177,
          340,
          239,
          359600,
          885,
          616,
          18966,
          1200,
          1625,
          554,
          1512,
          979,
          396,
          460,
          4906,
          351,
          21840,
          8117,
          300,
          3633,
          3709,
          621,
          25234,
          455,
          7192,
          51201,
          6300,
          3372,
          2070,
          31079,
          5619,
          348702,
          236,
          207,
          1489,
          3547,
          479,
          840,
          743,
          4395,
          4918,
          5452,
          10067,
          509,
          4354,
          1407,
          17260,
          60,
          1014,
          5746,
          718,
          3255,
          564,
          8557,
          7848,
          124,
          21344,
          18915,
          439,
          517,
          14412,
          13105,
          463,
          840,
          5868,
          12422,
          239,
          22461,
          151,
          652,
          430,
          3030,
          965,
          6055,
          1101,
          6333,
          857,
          2519,
          510,
          1543,
          920,
          45,
          5215,
          651,
          18964,
          1066,
          949,
          16307,
          6539,
          532,
          44,
          1536,
          934,
          7613,
          2475,
          3613,
          463,
          2926,
          1106,
          644,
          863,
          333,
          855,
          93,
          4086,
          484,
          5803,
          1098,
          6239,
          521,
          1075,
          5060,
          6799,
          2617,
          528,
          5081,
          1886,
          1633,
          44571,
          545,
          1883,
          602,
          2038,
          161,
          1453,
          22770,
          833,
          8673,
          218,
          1269,
          151,
          723,
          1344,
          207,
          5673,
          228,
          2080,
          361,
          1560,
          413,
          223,
          798,
          25730,
          603,
          1445,
          2183,
          706,
          5165,
          2528,
          2197,
          234,
          12725,
          29894,
          9039,
          12406,
          404,
          0,
          3231,
          5962,
          1217,
          324,
          373,
          1955,
          132,
          2654,
          671,
          201,
          1394,
          230,
          61,
          29611,
          627,
          2086,
          2814,
          207,
          13351,
          1102,
          77126,
          143,
          1575,
          4645,
          783,
          422,
          7294,
          773,
          6210,
          327,
          663,
          2696
         ]
        }
       ],
       "layout": {
        "template": {
         "data": {
          "bar": [
           {
            "error_x": {
             "color": "#2a3f5f"
            },
            "error_y": {
             "color": "#2a3f5f"
            },
            "marker": {
             "line": {
              "color": "#E5ECF6",
              "width": 0.5
             }
            },
            "type": "bar"
           }
          ],
          "barpolar": [
           {
            "marker": {
             "line": {
              "color": "#E5ECF6",
              "width": 0.5
             }
            },
            "type": "barpolar"
           }
          ],
          "carpet": [
           {
            "aaxis": {
             "endlinecolor": "#2a3f5f",
             "gridcolor": "white",
             "linecolor": "white",
             "minorgridcolor": "white",
             "startlinecolor": "#2a3f5f"
            },
            "baxis": {
             "endlinecolor": "#2a3f5f",
             "gridcolor": "white",
             "linecolor": "white",
             "minorgridcolor": "white",
             "startlinecolor": "#2a3f5f"
            },
            "type": "carpet"
           }
          ],
          "choropleth": [
           {
            "colorbar": {
             "outlinewidth": 0,
             "ticks": ""
            },
            "type": "choropleth"
           }
          ],
          "contour": [
           {
            "colorbar": {
             "outlinewidth": 0,
             "ticks": ""
            },
            "colorscale": [
             [
              0,
              "#0d0887"
             ],
             [
              0.1111111111111111,
              "#46039f"
             ],
             [
              0.2222222222222222,
              "#7201a8"
             ],
             [
              0.3333333333333333,
              "#9c179e"
             ],
             [
              0.4444444444444444,
              "#bd3786"
             ],
             [
              0.5555555555555556,
              "#d8576b"
             ],
             [
              0.6666666666666666,
              "#ed7953"
             ],
             [
              0.7777777777777778,
              "#fb9f3a"
             ],
             [
              0.8888888888888888,
              "#fdca26"
             ],
             [
              1,
              "#f0f921"
             ]
            ],
            "type": "contour"
           }
          ],
          "contourcarpet": [
           {
            "colorbar": {
             "outlinewidth": 0,
             "ticks": ""
            },
            "type": "contourcarpet"
           }
          ],
          "heatmap": [
           {
            "colorbar": {
             "outlinewidth": 0,
             "ticks": ""
            },
            "colorscale": [
             [
              0,
              "#0d0887"
             ],
             [
              0.1111111111111111,
              "#46039f"
             ],
             [
              0.2222222222222222,
              "#7201a8"
             ],
             [
              0.3333333333333333,
              "#9c179e"
             ],
             [
              0.4444444444444444,
              "#bd3786"
             ],
             [
              0.5555555555555556,
              "#d8576b"
             ],
             [
              0.6666666666666666,
              "#ed7953"
             ],
             [
              0.7777777777777778,
              "#fb9f3a"
             ],
             [
              0.8888888888888888,
              "#fdca26"
             ],
             [
              1,
              "#f0f921"
             ]
            ],
            "type": "heatmap"
           }
          ],
          "heatmapgl": [
           {
            "colorbar": {
             "outlinewidth": 0,
             "ticks": ""
            },
            "colorscale": [
             [
              0,
              "#0d0887"
             ],
             [
              0.1111111111111111,
              "#46039f"
             ],
             [
              0.2222222222222222,
              "#7201a8"
             ],
             [
              0.3333333333333333,
              "#9c179e"
             ],
             [
              0.4444444444444444,
              "#bd3786"
             ],
             [
              0.5555555555555556,
              "#d8576b"
             ],
             [
              0.6666666666666666,
              "#ed7953"
             ],
             [
              0.7777777777777778,
              "#fb9f3a"
             ],
             [
              0.8888888888888888,
              "#fdca26"
             ],
             [
              1,
              "#f0f921"
             ]
            ],
            "type": "heatmapgl"
           }
          ],
          "histogram": [
           {
            "marker": {
             "colorbar": {
              "outlinewidth": 0,
              "ticks": ""
             }
            },
            "type": "histogram"
           }
          ],
          "histogram2d": [
           {
            "colorbar": {
             "outlinewidth": 0,
             "ticks": ""
            },
            "colorscale": [
             [
              0,
              "#0d0887"
             ],
             [
              0.1111111111111111,
              "#46039f"
             ],
             [
              0.2222222222222222,
              "#7201a8"
             ],
             [
              0.3333333333333333,
              "#9c179e"
             ],
             [
              0.4444444444444444,
              "#bd3786"
             ],
             [
              0.5555555555555556,
              "#d8576b"
             ],
             [
              0.6666666666666666,
              "#ed7953"
             ],
             [
              0.7777777777777778,
              "#fb9f3a"
             ],
             [
              0.8888888888888888,
              "#fdca26"
             ],
             [
              1,
              "#f0f921"
             ]
            ],
            "type": "histogram2d"
           }
          ],
          "histogram2dcontour": [
           {
            "colorbar": {
             "outlinewidth": 0,
             "ticks": ""
            },
            "colorscale": [
             [
              0,
              "#0d0887"
             ],
             [
              0.1111111111111111,
              "#46039f"
             ],
             [
              0.2222222222222222,
              "#7201a8"
             ],
             [
              0.3333333333333333,
              "#9c179e"
             ],
             [
              0.4444444444444444,
              "#bd3786"
             ],
             [
              0.5555555555555556,
              "#d8576b"
             ],
             [
              0.6666666666666666,
              "#ed7953"
             ],
             [
              0.7777777777777778,
              "#fb9f3a"
             ],
             [
              0.8888888888888888,
              "#fdca26"
             ],
             [
              1,
              "#f0f921"
             ]
            ],
            "type": "histogram2dcontour"
           }
          ],
          "mesh3d": [
           {
            "colorbar": {
             "outlinewidth": 0,
             "ticks": ""
            },
            "type": "mesh3d"
           }
          ],
          "parcoords": [
           {
            "line": {
             "colorbar": {
              "outlinewidth": 0,
              "ticks": ""
             }
            },
            "type": "parcoords"
           }
          ],
          "scatter": [
           {
            "marker": {
             "colorbar": {
              "outlinewidth": 0,
              "ticks": ""
             }
            },
            "type": "scatter"
           }
          ],
          "scatter3d": [
           {
            "line": {
             "colorbar": {
              "outlinewidth": 0,
              "ticks": ""
             }
            },
            "marker": {
             "colorbar": {
              "outlinewidth": 0,
              "ticks": ""
             }
            },
            "type": "scatter3d"
           }
          ],
          "scattercarpet": [
           {
            "marker": {
             "colorbar": {
              "outlinewidth": 0,
              "ticks": ""
             }
            },
            "type": "scattercarpet"
           }
          ],
          "scattergeo": [
           {
            "marker": {
             "colorbar": {
              "outlinewidth": 0,
              "ticks": ""
             }
            },
            "type": "scattergeo"
           }
          ],
          "scattergl": [
           {
            "marker": {
             "colorbar": {
              "outlinewidth": 0,
              "ticks": ""
             }
            },
            "type": "scattergl"
           }
          ],
          "scattermapbox": [
           {
            "marker": {
             "colorbar": {
              "outlinewidth": 0,
              "ticks": ""
             }
            },
            "type": "scattermapbox"
           }
          ],
          "scatterpolar": [
           {
            "marker": {
             "colorbar": {
              "outlinewidth": 0,
              "ticks": ""
             }
            },
            "type": "scatterpolar"
           }
          ],
          "scatterpolargl": [
           {
            "marker": {
             "colorbar": {
              "outlinewidth": 0,
              "ticks": ""
             }
            },
            "type": "scatterpolargl"
           }
          ],
          "scatterternary": [
           {
            "marker": {
             "colorbar": {
              "outlinewidth": 0,
              "ticks": ""
             }
            },
            "type": "scatterternary"
           }
          ],
          "surface": [
           {
            "colorbar": {
             "outlinewidth": 0,
             "ticks": ""
            },
            "colorscale": [
             [
              0,
              "#0d0887"
             ],
             [
              0.1111111111111111,
              "#46039f"
             ],
             [
              0.2222222222222222,
              "#7201a8"
             ],
             [
              0.3333333333333333,
              "#9c179e"
             ],
             [
              0.4444444444444444,
              "#bd3786"
             ],
             [
              0.5555555555555556,
              "#d8576b"
             ],
             [
              0.6666666666666666,
              "#ed7953"
             ],
             [
              0.7777777777777778,
              "#fb9f3a"
             ],
             [
              0.8888888888888888,
              "#fdca26"
             ],
             [
              1,
              "#f0f921"
             ]
            ],
            "type": "surface"
           }
          ],
          "table": [
           {
            "cells": {
             "fill": {
              "color": "#EBF0F8"
             },
             "line": {
              "color": "white"
             }
            },
            "header": {
             "fill": {
              "color": "#C8D4E3"
             },
             "line": {
              "color": "white"
             }
            },
            "type": "table"
           }
          ]
         },
         "layout": {
          "annotationdefaults": {
           "arrowcolor": "#2a3f5f",
           "arrowhead": 0,
           "arrowwidth": 1
          },
          "colorscale": {
           "diverging": [
            [
             0,
             "#8e0152"
            ],
            [
             0.1,
             "#c51b7d"
            ],
            [
             0.2,
             "#de77ae"
            ],
            [
             0.3,
             "#f1b6da"
            ],
            [
             0.4,
             "#fde0ef"
            ],
            [
             0.5,
             "#f7f7f7"
            ],
            [
             0.6,
             "#e6f5d0"
            ],
            [
             0.7,
             "#b8e186"
            ],
            [
             0.8,
             "#7fbc41"
            ],
            [
             0.9,
             "#4d9221"
            ],
            [
             1,
             "#276419"
            ]
           ],
           "sequential": [
            [
             0,
             "#0d0887"
            ],
            [
             0.1111111111111111,
             "#46039f"
            ],
            [
             0.2222222222222222,
             "#7201a8"
            ],
            [
             0.3333333333333333,
             "#9c179e"
            ],
            [
             0.4444444444444444,
             "#bd3786"
            ],
            [
             0.5555555555555556,
             "#d8576b"
            ],
            [
             0.6666666666666666,
             "#ed7953"
            ],
            [
             0.7777777777777778,
             "#fb9f3a"
            ],
            [
             0.8888888888888888,
             "#fdca26"
            ],
            [
             1,
             "#f0f921"
            ]
           ],
           "sequentialminus": [
            [
             0,
             "#0d0887"
            ],
            [
             0.1111111111111111,
             "#46039f"
            ],
            [
             0.2222222222222222,
             "#7201a8"
            ],
            [
             0.3333333333333333,
             "#9c179e"
            ],
            [
             0.4444444444444444,
             "#bd3786"
            ],
            [
             0.5555555555555556,
             "#d8576b"
            ],
            [
             0.6666666666666666,
             "#ed7953"
            ],
            [
             0.7777777777777778,
             "#fb9f3a"
            ],
            [
             0.8888888888888888,
             "#fdca26"
            ],
            [
             1,
             "#f0f921"
            ]
           ]
          },
          "colorway": [
           "#636efa",
           "#EF553B",
           "#00cc96",
           "#ab63fa",
           "#FFA15A",
           "#19d3f3",
           "#FF6692",
           "#B6E880",
           "#FF97FF",
           "#FECB52"
          ],
          "font": {
           "color": "#2a3f5f"
          },
          "geo": {
           "bgcolor": "white",
           "lakecolor": "white",
           "landcolor": "#E5ECF6",
           "showlakes": true,
           "showland": true,
           "subunitcolor": "white"
          },
          "hoverlabel": {
           "align": "left"
          },
          "hovermode": "closest",
          "mapbox": {
           "style": "light"
          },
          "paper_bgcolor": "white",
          "plot_bgcolor": "#E5ECF6",
          "polar": {
           "angularaxis": {
            "gridcolor": "white",
            "linecolor": "white",
            "ticks": ""
           },
           "bgcolor": "#E5ECF6",
           "radialaxis": {
            "gridcolor": "white",
            "linecolor": "white",
            "ticks": ""
           }
          },
          "scene": {
           "xaxis": {
            "backgroundcolor": "#E5ECF6",
            "gridcolor": "white",
            "gridwidth": 2,
            "linecolor": "white",
            "showbackground": true,
            "ticks": "",
            "zerolinecolor": "white"
           },
           "yaxis": {
            "backgroundcolor": "#E5ECF6",
            "gridcolor": "white",
            "gridwidth": 2,
            "linecolor": "white",
            "showbackground": true,
            "ticks": "",
            "zerolinecolor": "white"
           },
           "zaxis": {
            "backgroundcolor": "#E5ECF6",
            "gridcolor": "white",
            "gridwidth": 2,
            "linecolor": "white",
            "showbackground": true,
            "ticks": "",
            "zerolinecolor": "white"
           }
          },
          "shapedefaults": {
           "line": {
            "color": "#2a3f5f"
           }
          },
          "ternary": {
           "aaxis": {
            "gridcolor": "white",
            "linecolor": "white",
            "ticks": ""
           },
           "baxis": {
            "gridcolor": "white",
            "linecolor": "white",
            "ticks": ""
           },
           "bgcolor": "#E5ECF6",
           "caxis": {
            "gridcolor": "white",
            "linecolor": "white",
            "ticks": ""
           }
          },
          "title": {
           "x": 0.05
          },
          "xaxis": {
           "automargin": true,
           "gridcolor": "white",
           "linecolor": "white",
           "ticks": "",
           "zerolinecolor": "white",
           "zerolinewidth": 2
          },
          "yaxis": {
           "automargin": true,
           "gridcolor": "white",
           "linecolor": "white",
           "ticks": "",
           "zerolinecolor": "white",
           "zerolinewidth": 2
          }
         }
        }
       }
      },
      "text/html": [
       "<div>\n",
       "        \n",
       "        \n",
       "            <div id=\"8c2426cf-e91e-448b-ab71-dde2570887ed\" class=\"plotly-graph-div\" style=\"height:525px; width:100%;\"></div>\n",
       "            <script type=\"text/javascript\">\n",
       "                require([\"plotly\"], function(Plotly) {\n",
       "                    window.PLOTLYENV=window.PLOTLYENV || {};\n",
       "                    \n",
       "                if (document.getElementById(\"8c2426cf-e91e-448b-ab71-dde2570887ed\")) {\n",
       "                    Plotly.newPlot(\n",
       "                        '8c2426cf-e91e-448b-ab71-dde2570887ed',\n",
       "                        [{\"type\": \"histogram\", \"x\": [111693, 3259, 127231, 51391, 128059, 35907, 60975, 34302, 1415, 11470, 144611, 60406, 53504, 9752, 3075, 27436, 41354, 31360, 179980, 237, 2609, 2981, 8636, 1, 75584, 42612, 31645, 29088, 42867, 350, 57252, 132087, 6284, 2521, 76572, 83760, 148598, 67493, 90174, 4253, 11408, 43392, 6786, 128026, 8827, 1878, 8999, 39993, 37429, 78208, 3641, 8862, 187233, 46214, 229522, 7291, 1383, 53684, 4103, 58482, 1571, 1324, 122423, 285, 1279, 1522, 119, 22506, 3686, 8598, 25078, 348838, 20403, 3446, 15681, 18901, 692, 3498, 9169, 154923, 138419, 2010, 102452, 3044, 15755, 105383, 8237, 2254, 12832, 2346, 180021, 1399, 27009, 324, 26466, 15620, 3057, 1430, 58073, 8121, 2775, 9312, 3184, 2779, 1750, 24813, 27169, 17704, 6324, 1723, 2845, 2820, 416, 69578, 1966, 176763, 41641, 11766, 5603, 332, 5287, 12696, 325, 110499, 109508, 47485, 21725, 2504, 681, 54405, 3454, 28, 2456, 33570, 3555, 4214, 294, 13677, 57923, 8810, 9865, 8199, 1065, 7874, 27674, 67739, 41986, 61773, 1938, 6910, 3128, 483232, 190587, 7912, 1113, 1854, 3687, 17399, 19865, 13858, 40134, 3336, 2098, 15864, 599, 82765, 6367, 12935, 46195, 21347, 2091, 8225, 574, 4530, 6156, 15769, 17028, 0, 50756, 679, 1124, 3228, 16261, 4699, 23312, 8781, 73730, 96514, 7219, 41473, 2494, 576, 21229, 2622, 69588, 3469, 303, 5627, 33811, 289, 43300, 20136, 803, 2208, 1521, 430, 20088, 2112, 453, 463, 582, 1952, 24772, 1354, 983, 2313, 6413, 50239, 0, 768, 312, 12576, 8827, 11860, 87764, 1218, 1129, 15773, 18349, 40377, 656, 4720, 578, 3812, 1384, 209018, 2220, 1728, 21511, 485, 2737, 204, 850, 19868, 1377, 1892, 51461, 5826, 821, 1588, 6306, 728, 1216, 12030, 16664, 1273, 77623, 252499, 28142, 568, 2690, 14077, 110260, 396, 70, 4128, 1438, 6391, 1928, 6458, 1788, 949, 12918, 2608, 6061, 7282, 1344, 3022, 1513, 611, 2216, 83453, 775, 6341, 2160, 63504, 2793, 3082, 109497, 2047, 95011, 84441, 189, 3565, 893, 332, 446, 1202, 6850, 1204, 6812, 235, 15913, 1900, 82401, 8121, 658, 9872, 3379, 1524, 1490, 694, 3160, 195241, 3769, 11143, 1376, 492, 15103, 180, 614, 4793, 2010, 489, 1627, 2385, 527, 17107, 12024, 397, 1435, 11013, 42936, 37564, 11336, 7924, 42893, 3335, 1008, 1258, 1844, 4923, 6480, 10559, 1193, 201, 825, 22369, 436, 644, 4054, 404, 1354, 260246, 1733, 387, 1876, 309983, 395, 1933, 1067, 3481, 6286, 63037, 21668, 11409, 428, 6207, 805, 1031, 7351, 598, 1466, 176337, 6960, 7378, 618, 6282, 8623, 1024, 687, 2330, 71120, 1578, 4471, 280, 4274, 3034, 948, 805, 27846, 14715, 611, 400, 997, 296, 1011, 336, 19631, 11303, 2759, 1001, 549, 40599, 1330, 12207, 4563, 571, 496, 28160, 169, 3433, 2561, 16091, 696, 4605, 4743, 24644, 9335, 2510, 7495, 292, 1835, 239, 2150, 192, 646, 449, 40300, 3486, 3719, 2693, 70537, 108, 10584, 4094, 665, 818, 42915, 685, 1187, 80298, 698723, 795, 3617, 1060, 2180, 3942, 3792, 22670, 3540, 5086, 827, 2076, 8982, 1873, 203747, 44358, 769, 852, 6884, 513, 30986, 1295, 32909, 1329, 909, 9230, 364, 82504, 6489, 1472, 28306, 7260, 1654, 862, 223, 12813, 980, 10450, 320, 14541, 1073, 708, 11881, 443, 1899, 7453, 412, 64, 307, 4183, 210, 375, 3386, 3257, 4994, 10512, 6870, 839, 1820, 563, 126, 2098, 3396, 1768, 6744, 41777, 43166, 91, 231, 19180, 3238, 461, 595, 2390, 1862, 4213, 3208, 1173, 21955, 567, 1020, 1352, 1879, 489, 4282, 2073, 6538, 112, 263, 10256, 135, 746, 724, 15800, 81026, 212, 215, 1570, 618, 92465, 1428, 8496, 3183, 1058, 2789, 724, 4609, 10522, 5699, 1266, 275551, 1882, 37516, 413, 3603, 196334, 15162, 797021, 31369, 301, 1319, 919, 2397, 591, 11833, 106, 6186, 39269, 1273, 6893, 2848, 27608, 5255, 5440, 688, 927, 30773, 3361, 1406, 271, 403, 749, 1129, 2110, 1322, 420, 254, 669, 25464, 870, 469, 3506, 19959, 11259, 1354, 5063, 69671, 2594, 3453, 1066743, 380, 40, 723, 6483, 910, 2412, 738, 1269, 45812, 544, 565, 263, 1138, 159, 308, 6947, 15345, 457, 1169, 2765, 1664, 74599, 605, 3177, 1113, 717, 785, 2657, 687, 5363, 211, 359, 10493, 3927, 1230, 30749, 9909, 244, 3302, 878, 767, 3736, 711, 293901, 507, 999, 12224, 1950, 1316, 372, 82816, 1134, 166, 105638, 31972, 1271, 1834, 14684, 1577, 2267, 557, 4578, 4211, 9106, 648, 618, 1936, 30384, 1177, 4960, 618, 4417, 31620, 44729, 96023, 565, 1252, 81075, 127, 5236, 4844, 1084, 4096, 40787, 94308, 963, 1782, 7426, 39, 762, 3682, 2618, 592382, 280, 295, 1443, 806, 6102, 508, 2273, 10137, 1931, 5408, 33102, 25379, 199, 1328, 24833, 45607, 35041, 1404, 843, 1182, 2809, 1715, 12540, 188, 1028, 3075, 29492, 3399, 654, 605, 1312, 10043, 164, 11385, 1212, 11142, 13240, 6731, 25096, 366, 1146, 7413, 203, 45759, 5276, 14240, 3812, 1687, 9457, 40, 193, 189857, 1275, 159, 4740, 4020, 774, 1042, 114, 48, 371903, 599, 289500, 4586, 3246, 391, 101, 1188, 20534, 5355, 396, 6454, 53, 633, 22684, 827, 782, 14923, 7051, 1398, 28641, 585, 2506, 2762, 97336, 1252, 9827, 208, 518, 19993, 15926, 1800, 5746, 271, 679, 54190, 14380, 21494, 1076, 2276, 485, 1046, 291, 1507, 6661, 2204, 124, 1230, 999, 35443, 2613, 2177, 340, 239, 359600, 885, 616, 18966, 1200, 1625, 554, 1512, 979, 396, 460, 4906, 351, 21840, 8117, 300, 3633, 3709, 621, 25234, 455, 7192, 51201, 6300, 3372, 2070, 31079, 5619, 348702, 236, 207, 1489, 3547, 479, 840, 743, 4395, 4918, 5452, 10067, 509, 4354, 1407, 17260, 60, 1014, 5746, 718, 3255, 564, 8557, 7848, 124, 21344, 18915, 439, 517, 14412, 13105, 463, 840, 5868, 12422, 239, 22461, 151, 652, 430, 3030, 965, 6055, 1101, 6333, 857, 2519, 510, 1543, 920, 45, 5215, 651, 18964, 1066, 949, 16307, 6539, 532, 44, 1536, 934, 7613, 2475, 3613, 463, 2926, 1106, 644, 863, 333, 855, 93, 4086, 484, 5803, 1098, 6239, 521, 1075, 5060, 6799, 2617, 528, 5081, 1886, 1633, 44571, 545, 1883, 602, 2038, 161, 1453, 22770, 833, 8673, 218, 1269, 151, 723, 1344, 207, 5673, 228, 2080, 361, 1560, 413, 223, 798, 25730, 603, 1445, 2183, 706, 5165, 2528, 2197, 234, 12725, 29894, 9039, 12406, 404, 0, 3231, 5962, 1217, 324, 373, 1955, 132, 2654, 671, 201, 1394, 230, 61, 29611, 627, 2086, 2814, 207, 13351, 1102, 77126, 143, 1575, 4645, 783, 422, 7294, 773, 6210, 327, 663, 2696]}],\n",
       "                        {\"template\": {\"data\": {\"bar\": [{\"error_x\": {\"color\": \"#2a3f5f\"}, \"error_y\": {\"color\": \"#2a3f5f\"}, \"marker\": {\"line\": {\"color\": \"#E5ECF6\", \"width\": 0.5}}, \"type\": \"bar\"}], \"barpolar\": [{\"marker\": {\"line\": {\"color\": \"#E5ECF6\", \"width\": 0.5}}, \"type\": \"barpolar\"}], \"carpet\": [{\"aaxis\": {\"endlinecolor\": \"#2a3f5f\", \"gridcolor\": \"white\", \"linecolor\": \"white\", \"minorgridcolor\": \"white\", \"startlinecolor\": \"#2a3f5f\"}, \"baxis\": {\"endlinecolor\": \"#2a3f5f\", \"gridcolor\": \"white\", \"linecolor\": \"white\", \"minorgridcolor\": \"white\", \"startlinecolor\": \"#2a3f5f\"}, \"type\": \"carpet\"}], \"choropleth\": [{\"colorbar\": {\"outlinewidth\": 0, \"ticks\": \"\"}, \"type\": \"choropleth\"}], \"contour\": [{\"colorbar\": {\"outlinewidth\": 0, \"ticks\": \"\"}, \"colorscale\": [[0.0, \"#0d0887\"], [0.1111111111111111, \"#46039f\"], [0.2222222222222222, \"#7201a8\"], [0.3333333333333333, \"#9c179e\"], [0.4444444444444444, \"#bd3786\"], [0.5555555555555556, \"#d8576b\"], [0.6666666666666666, \"#ed7953\"], [0.7777777777777778, \"#fb9f3a\"], [0.8888888888888888, \"#fdca26\"], [1.0, \"#f0f921\"]], \"type\": \"contour\"}], \"contourcarpet\": [{\"colorbar\": {\"outlinewidth\": 0, \"ticks\": \"\"}, \"type\": \"contourcarpet\"}], \"heatmap\": [{\"colorbar\": {\"outlinewidth\": 0, \"ticks\": \"\"}, \"colorscale\": [[0.0, \"#0d0887\"], [0.1111111111111111, \"#46039f\"], [0.2222222222222222, \"#7201a8\"], [0.3333333333333333, \"#9c179e\"], [0.4444444444444444, \"#bd3786\"], [0.5555555555555556, \"#d8576b\"], [0.6666666666666666, \"#ed7953\"], [0.7777777777777778, \"#fb9f3a\"], [0.8888888888888888, \"#fdca26\"], [1.0, \"#f0f921\"]], \"type\": \"heatmap\"}], \"heatmapgl\": [{\"colorbar\": {\"outlinewidth\": 0, \"ticks\": \"\"}, \"colorscale\": [[0.0, \"#0d0887\"], [0.1111111111111111, \"#46039f\"], [0.2222222222222222, \"#7201a8\"], [0.3333333333333333, \"#9c179e\"], [0.4444444444444444, \"#bd3786\"], [0.5555555555555556, \"#d8576b\"], [0.6666666666666666, \"#ed7953\"], [0.7777777777777778, \"#fb9f3a\"], [0.8888888888888888, \"#fdca26\"], [1.0, \"#f0f921\"]], \"type\": \"heatmapgl\"}], \"histogram\": [{\"marker\": {\"colorbar\": {\"outlinewidth\": 0, \"ticks\": \"\"}}, \"type\": \"histogram\"}], \"histogram2d\": [{\"colorbar\": {\"outlinewidth\": 0, \"ticks\": \"\"}, \"colorscale\": [[0.0, \"#0d0887\"], [0.1111111111111111, \"#46039f\"], [0.2222222222222222, \"#7201a8\"], [0.3333333333333333, \"#9c179e\"], [0.4444444444444444, \"#bd3786\"], [0.5555555555555556, \"#d8576b\"], [0.6666666666666666, \"#ed7953\"], [0.7777777777777778, \"#fb9f3a\"], [0.8888888888888888, \"#fdca26\"], [1.0, \"#f0f921\"]], \"type\": \"histogram2d\"}], \"histogram2dcontour\": [{\"colorbar\": {\"outlinewidth\": 0, \"ticks\": \"\"}, \"colorscale\": [[0.0, \"#0d0887\"], [0.1111111111111111, \"#46039f\"], [0.2222222222222222, \"#7201a8\"], [0.3333333333333333, \"#9c179e\"], [0.4444444444444444, \"#bd3786\"], [0.5555555555555556, \"#d8576b\"], [0.6666666666666666, \"#ed7953\"], [0.7777777777777778, \"#fb9f3a\"], [0.8888888888888888, \"#fdca26\"], [1.0, \"#f0f921\"]], \"type\": \"histogram2dcontour\"}], \"mesh3d\": [{\"colorbar\": {\"outlinewidth\": 0, \"ticks\": \"\"}, \"type\": \"mesh3d\"}], \"parcoords\": [{\"line\": {\"colorbar\": {\"outlinewidth\": 0, \"ticks\": \"\"}}, \"type\": \"parcoords\"}], \"scatter\": [{\"marker\": {\"colorbar\": {\"outlinewidth\": 0, \"ticks\": \"\"}}, \"type\": \"scatter\"}], \"scatter3d\": [{\"line\": {\"colorbar\": {\"outlinewidth\": 0, \"ticks\": \"\"}}, \"marker\": {\"colorbar\": {\"outlinewidth\": 0, \"ticks\": \"\"}}, \"type\": \"scatter3d\"}], \"scattercarpet\": [{\"marker\": {\"colorbar\": {\"outlinewidth\": 0, \"ticks\": \"\"}}, \"type\": \"scattercarpet\"}], \"scattergeo\": [{\"marker\": {\"colorbar\": {\"outlinewidth\": 0, \"ticks\": \"\"}}, \"type\": \"scattergeo\"}], \"scattergl\": [{\"marker\": {\"colorbar\": {\"outlinewidth\": 0, \"ticks\": \"\"}}, \"type\": \"scattergl\"}], \"scattermapbox\": [{\"marker\": {\"colorbar\": {\"outlinewidth\": 0, \"ticks\": \"\"}}, \"type\": \"scattermapbox\"}], \"scatterpolar\": [{\"marker\": {\"colorbar\": {\"outlinewidth\": 0, \"ticks\": \"\"}}, \"type\": \"scatterpolar\"}], \"scatterpolargl\": [{\"marker\": {\"colorbar\": {\"outlinewidth\": 0, \"ticks\": \"\"}}, \"type\": \"scatterpolargl\"}], \"scatterternary\": [{\"marker\": {\"colorbar\": {\"outlinewidth\": 0, \"ticks\": \"\"}}, \"type\": \"scatterternary\"}], \"surface\": [{\"colorbar\": {\"outlinewidth\": 0, \"ticks\": \"\"}, \"colorscale\": [[0.0, \"#0d0887\"], [0.1111111111111111, \"#46039f\"], [0.2222222222222222, \"#7201a8\"], [0.3333333333333333, \"#9c179e\"], [0.4444444444444444, \"#bd3786\"], [0.5555555555555556, \"#d8576b\"], [0.6666666666666666, \"#ed7953\"], [0.7777777777777778, \"#fb9f3a\"], [0.8888888888888888, \"#fdca26\"], [1.0, \"#f0f921\"]], \"type\": \"surface\"}], \"table\": [{\"cells\": {\"fill\": {\"color\": \"#EBF0F8\"}, \"line\": {\"color\": \"white\"}}, \"header\": {\"fill\": {\"color\": \"#C8D4E3\"}, \"line\": {\"color\": \"white\"}}, \"type\": \"table\"}]}, \"layout\": {\"annotationdefaults\": {\"arrowcolor\": \"#2a3f5f\", \"arrowhead\": 0, \"arrowwidth\": 1}, \"colorscale\": {\"diverging\": [[0, \"#8e0152\"], [0.1, \"#c51b7d\"], [0.2, \"#de77ae\"], [0.3, \"#f1b6da\"], [0.4, \"#fde0ef\"], [0.5, \"#f7f7f7\"], [0.6, \"#e6f5d0\"], [0.7, \"#b8e186\"], [0.8, \"#7fbc41\"], [0.9, \"#4d9221\"], [1, \"#276419\"]], \"sequential\": [[0.0, \"#0d0887\"], [0.1111111111111111, \"#46039f\"], [0.2222222222222222, \"#7201a8\"], [0.3333333333333333, \"#9c179e\"], [0.4444444444444444, \"#bd3786\"], [0.5555555555555556, \"#d8576b\"], [0.6666666666666666, \"#ed7953\"], [0.7777777777777778, \"#fb9f3a\"], [0.8888888888888888, \"#fdca26\"], [1.0, \"#f0f921\"]], \"sequentialminus\": [[0.0, \"#0d0887\"], [0.1111111111111111, \"#46039f\"], [0.2222222222222222, \"#7201a8\"], [0.3333333333333333, \"#9c179e\"], [0.4444444444444444, \"#bd3786\"], [0.5555555555555556, \"#d8576b\"], [0.6666666666666666, \"#ed7953\"], [0.7777777777777778, \"#fb9f3a\"], [0.8888888888888888, \"#fdca26\"], [1.0, \"#f0f921\"]]}, \"colorway\": [\"#636efa\", \"#EF553B\", \"#00cc96\", \"#ab63fa\", \"#FFA15A\", \"#19d3f3\", \"#FF6692\", \"#B6E880\", \"#FF97FF\", \"#FECB52\"], \"font\": {\"color\": \"#2a3f5f\"}, \"geo\": {\"bgcolor\": \"white\", \"lakecolor\": \"white\", \"landcolor\": \"#E5ECF6\", \"showlakes\": true, \"showland\": true, \"subunitcolor\": \"white\"}, \"hoverlabel\": {\"align\": \"left\"}, \"hovermode\": \"closest\", \"mapbox\": {\"style\": \"light\"}, \"paper_bgcolor\": \"white\", \"plot_bgcolor\": \"#E5ECF6\", \"polar\": {\"angularaxis\": {\"gridcolor\": \"white\", \"linecolor\": \"white\", \"ticks\": \"\"}, \"bgcolor\": \"#E5ECF6\", \"radialaxis\": {\"gridcolor\": \"white\", \"linecolor\": \"white\", \"ticks\": \"\"}}, \"scene\": {\"xaxis\": {\"backgroundcolor\": \"#E5ECF6\", \"gridcolor\": \"white\", \"gridwidth\": 2, \"linecolor\": \"white\", \"showbackground\": true, \"ticks\": \"\", \"zerolinecolor\": \"white\"}, \"yaxis\": {\"backgroundcolor\": \"#E5ECF6\", \"gridcolor\": \"white\", \"gridwidth\": 2, \"linecolor\": \"white\", \"showbackground\": true, \"ticks\": \"\", \"zerolinecolor\": \"white\"}, \"zaxis\": {\"backgroundcolor\": \"#E5ECF6\", \"gridcolor\": \"white\", \"gridwidth\": 2, \"linecolor\": \"white\", \"showbackground\": true, \"ticks\": \"\", \"zerolinecolor\": \"white\"}}, \"shapedefaults\": {\"line\": {\"color\": \"#2a3f5f\"}}, \"ternary\": {\"aaxis\": {\"gridcolor\": \"white\", \"linecolor\": \"white\", \"ticks\": \"\"}, \"baxis\": {\"gridcolor\": \"white\", \"linecolor\": \"white\", \"ticks\": \"\"}, \"bgcolor\": \"#E5ECF6\", \"caxis\": {\"gridcolor\": \"white\", \"linecolor\": \"white\", \"ticks\": \"\"}}, \"title\": {\"x\": 0.05}, \"xaxis\": {\"automargin\": true, \"gridcolor\": \"white\", \"linecolor\": \"white\", \"ticks\": \"\", \"zerolinecolor\": \"white\", \"zerolinewidth\": 2}, \"yaxis\": {\"automargin\": true, \"gridcolor\": \"white\", \"linecolor\": \"white\", \"ticks\": \"\", \"zerolinecolor\": \"white\", \"zerolinewidth\": 2}}}},\n",
       "                        {\"responsive\": true}\n",
       "                    ).then(function(){\n",
       "                            \n",
       "var gd = document.getElementById('8c2426cf-e91e-448b-ab71-dde2570887ed');\n",
       "var x = new MutationObserver(function (mutations, observer) {{\n",
       "        var display = window.getComputedStyle(gd).display;\n",
       "        if (!display || display === 'none') {{\n",
       "            console.log([gd, 'removed!']);\n",
       "            Plotly.purge(gd);\n",
       "            observer.disconnect();\n",
       "        }}\n",
       "}});\n",
       "\n",
       "// Listen for the removal of the full notebook cells\n",
       "var notebookContainer = gd.closest('#notebook-container');\n",
       "if (notebookContainer) {{\n",
       "    x.observe(notebookContainer, {childList: true});\n",
       "}}\n",
       "\n",
       "// Listen for the clearing of the current output cell\n",
       "var outputEl = gd.closest('.output');\n",
       "if (outputEl) {{\n",
       "    x.observe(outputEl, {childList: true});\n",
       "}}\n",
       "\n",
       "                        })\n",
       "                };\n",
       "                });\n",
       "            </script>\n",
       "        </div>"
      ]
     },
     "metadata": {},
     "output_type": "display_data"
    }
   ],
   "source": [
    "import plotly.graph_objects as go\n",
    "\n",
    "x = df['codelines']\n",
    "\n",
    "fig = go.Figure(data=[go.Histogram(x=x)])\n",
    "fig.show()"
   ]
  }
 ],
 "metadata": {
  "kernelspec": {
   "display_name": "Python 3",
   "language": "python",
   "name": "python3"
  },
  "language_info": {
   "codemirror_mode": {
    "name": "ipython",
    "version": 3
   },
   "file_extension": ".py",
   "mimetype": "text/x-python",
   "name": "python",
   "nbconvert_exporter": "python",
   "pygments_lexer": "ipython3",
   "version": "3.7.3"
  }
 },
 "nbformat": 4,
 "nbformat_minor": 2
}
