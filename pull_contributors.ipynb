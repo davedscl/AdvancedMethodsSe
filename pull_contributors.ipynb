{
 "cells": [
  {
   "cell_type": "markdown",
   "metadata": {},
   "source": [
    "This Jupyter file reads our analysis files and for each repository appends the number of contributors in a repository to each entry in the analysis file"
   ]
  },
  {
   "cell_type": "code",
   "execution_count": null,
   "metadata": {},
   "outputs": [],
   "source": [
    "import json\n",
    "json_file = open('analysis_java_worst.json')\n",
    "json_str = json_file.read()\n",
    "json_data = json.loads(json_str)"
   ]
  },
  {
   "cell_type": "code",
   "execution_count": null,
   "metadata": {},
   "outputs": [],
   "source": [
    "from github import Github, RateLimitExceededException, UnknownObjectException\n",
    "\n",
    "# Read Token\n",
    "access_token = open('GITHUB_TOKEN.txt', 'r').read()\n",
    "user = Github(access_token)\n",
    "user.per_page = 100"
   ]
  },
  {
   "cell_type": "code",
   "execution_count": null,
   "metadata": {},
   "outputs": [],
   "source": [
    "def check_rate_limit():\n",
    "    rate_limit = user.get_rate_limit()\n",
    "    remaining = rate_limit.search.remaining\n",
    "    \n",
    "    if remaining > 0:\n",
    "        return\n",
    "    \n",
    "    reset_time = rate_limit.search.reset\n",
    "    now = datetime.utcnow()\n",
    "\n",
    "    if now < reset_time:\n",
    "        sleep_time = (reset_time - now).total_seconds()\n",
    "        print('=> Waiting {} seconds for rate limit reset.'.format(sleep_time))\n",
    "        time.sleep(sleep_time)"
   ]
  },
  {
   "cell_type": "code",
   "execution_count": null,
   "metadata": {},
   "outputs": [],
   "source": [
    "for i in range (0, len(json_data)):\n",
    "    print(\"================ {} ================\".format(i))\n",
    "    try:\n",
    "        repo = user.get_repo(json_data[i]['owner']+'/'+json_data[i]['name'])\n",
    "        contributor_count = repo.get_contributors().totalCount\n",
    "        \n",
    "        json_data[i]['contributor_count'] = contributor_count\n",
    "        \n",
    "        with open(\"./contr_java_worst.json\", 'a+') as f:\n",
    "            f.write(json.dumps(json_data[i], indent=4))\n",
    "            f.write(',')  \n",
    "        \n",
    "    except RateLimitExceededException:\n",
    "        check_rate_limit()\n",
    "        continue\n",
    "    except UnknownObjectException:\n",
    "        \n",
    "        json_data[i]['contributor_count'] = -1\n",
    "        \n",
    "        with open(\"./contr_java_worst.json\", 'a+') as f:\n",
    "            f.write(json.dumps(json_data[i], indent=4))\n",
    "            f.write(',')\n",
    "        "
   ]
  }
 ],
 "metadata": {
  "kernelspec": {
   "display_name": "Python 3",
   "language": "python",
   "name": "python3"
  },
  "language_info": {
   "codemirror_mode": {
    "name": "ipython",
    "version": 3
   },
   "file_extension": ".py",
   "mimetype": "text/x-python",
   "name": "python",
   "nbconvert_exporter": "python",
   "pygments_lexer": "ipython3",
   "version": "3.7.3"
  }
 },
 "nbformat": 4,
 "nbformat_minor": 2
}
